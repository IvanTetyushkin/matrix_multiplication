{
 "cells": [
  {
   "cell_type": "code",
   "execution_count": 1,
   "metadata": {},
   "outputs": [],
   "source": [
    "import pandas as pd\n"
   ]
  },
  {
   "cell_type": "code",
   "execution_count": 2,
   "metadata": {},
   "outputs": [
    {
     "name": "stdout",
     "output_type": "stream",
     "text": [
      "hello\n"
     ]
    }
   ],
   "source": [
    "print(\"hello\")"
   ]
  },
  {
   "cell_type": "code",
   "execution_count": 3,
   "metadata": {},
   "outputs": [
    {
     "data": {
      "text/html": [
       "<div>\n",
       "<style scoped>\n",
       "    .dataframe tbody tr th:only-of-type {\n",
       "        vertical-align: middle;\n",
       "    }\n",
       "\n",
       "    .dataframe tbody tr th {\n",
       "        vertical-align: top;\n",
       "    }\n",
       "\n",
       "    .dataframe thead th {\n",
       "        text-align: right;\n",
       "    }\n",
       "</style>\n",
       "<table border=\"1\" class=\"dataframe\">\n",
       "  <thead>\n",
       "    <tr style=\"text-align: right;\">\n",
       "      <th></th>\n",
       "      <th>type</th>\n",
       "      <th>size</th>\n",
       "      <th>time</th>\n",
       "    </tr>\n",
       "  </thead>\n",
       "  <tbody>\n",
       "    <tr>\n",
       "      <th>0</th>\n",
       "      <td>nonStable_diag_CM</td>\n",
       "      <td>32</td>\n",
       "      <td>4142900</td>\n",
       "    </tr>\n",
       "    <tr>\n",
       "      <th>1</th>\n",
       "      <td>nonStable_diag_OCL</td>\n",
       "      <td>32</td>\n",
       "      <td>3090500</td>\n",
       "    </tr>\n",
       "    <tr>\n",
       "      <th>2</th>\n",
       "      <td>nonStable_diag_CM</td>\n",
       "      <td>64</td>\n",
       "      <td>5639000</td>\n",
       "    </tr>\n",
       "    <tr>\n",
       "      <th>3</th>\n",
       "      <td>nonStable_diag_OCL</td>\n",
       "      <td>64</td>\n",
       "      <td>964600</td>\n",
       "    </tr>\n",
       "    <tr>\n",
       "      <th>4</th>\n",
       "      <td>nonStable_diag_CM</td>\n",
       "      <td>96</td>\n",
       "      <td>3265000</td>\n",
       "    </tr>\n",
       "  </tbody>\n",
       "</table>\n",
       "</div>"
      ],
      "text/plain": [
       "                 type   size     time\n",
       "0   nonStable_diag_CM     32  4142900\n",
       "1  nonStable_diag_OCL     32  3090500\n",
       "2   nonStable_diag_CM     64  5639000\n",
       "3  nonStable_diag_OCL     64   964600\n",
       "4   nonStable_diag_CM     96  3265000"
      ]
     },
     "execution_count": 3,
     "metadata": {},
     "output_type": "execute_result"
    }
   ],
   "source": [
    "out = pd.read_csv('build/tests/Release/result.csv')  \n",
    "out.head()"
   ]
  },
  {
   "cell_type": "code",
   "execution_count": 4,
   "metadata": {},
   "outputs": [
    {
     "data": {
      "text/plain": [
       "type     object\n",
       " size     int64\n",
       " time     int64\n",
       "dtype: object"
      ]
     },
     "execution_count": 4,
     "metadata": {},
     "output_type": "execute_result"
    }
   ],
   "source": [
    "out.dtypes"
   ]
  },
  {
   "cell_type": "code",
   "execution_count": 5,
   "metadata": {},
   "outputs": [
    {
     "data": {
      "text/html": [
       "<div>\n",
       "<style scoped>\n",
       "    .dataframe tbody tr th:only-of-type {\n",
       "        vertical-align: middle;\n",
       "    }\n",
       "\n",
       "    .dataframe tbody tr th {\n",
       "        vertical-align: top;\n",
       "    }\n",
       "\n",
       "    .dataframe thead th {\n",
       "        text-align: right;\n",
       "    }\n",
       "</style>\n",
       "<table border=\"1\" class=\"dataframe\">\n",
       "  <thead>\n",
       "    <tr style=\"text-align: right;\">\n",
       "      <th></th>\n",
       "      <th>type</th>\n",
       "      <th>size</th>\n",
       "      <th>time</th>\n",
       "    </tr>\n",
       "  </thead>\n",
       "  <tbody>\n",
       "    <tr>\n",
       "      <th>0</th>\n",
       "      <td>nonStable_diag_CM</td>\n",
       "      <td>32</td>\n",
       "      <td>4142900</td>\n",
       "    </tr>\n",
       "    <tr>\n",
       "      <th>1</th>\n",
       "      <td>nonStable_diag_OCL</td>\n",
       "      <td>32</td>\n",
       "      <td>3090500</td>\n",
       "    </tr>\n",
       "    <tr>\n",
       "      <th>2</th>\n",
       "      <td>nonStable_diag_CM</td>\n",
       "      <td>64</td>\n",
       "      <td>5639000</td>\n",
       "    </tr>\n",
       "    <tr>\n",
       "      <th>3</th>\n",
       "      <td>nonStable_diag_OCL</td>\n",
       "      <td>64</td>\n",
       "      <td>964600</td>\n",
       "    </tr>\n",
       "    <tr>\n",
       "      <th>4</th>\n",
       "      <td>nonStable_diag_CM</td>\n",
       "      <td>96</td>\n",
       "      <td>3265000</td>\n",
       "    </tr>\n",
       "    <tr>\n",
       "      <th>...</th>\n",
       "      <td>...</td>\n",
       "      <td>...</td>\n",
       "      <td>...</td>\n",
       "    </tr>\n",
       "    <tr>\n",
       "      <th>123</th>\n",
       "      <td>nonStable_diag_OCL</td>\n",
       "      <td>1984</td>\n",
       "      <td>1332600</td>\n",
       "    </tr>\n",
       "    <tr>\n",
       "      <th>124</th>\n",
       "      <td>nonStable_diag_CM</td>\n",
       "      <td>2016</td>\n",
       "      <td>3516800</td>\n",
       "    </tr>\n",
       "    <tr>\n",
       "      <th>125</th>\n",
       "      <td>nonStable_diag_OCL</td>\n",
       "      <td>2016</td>\n",
       "      <td>1659500</td>\n",
       "    </tr>\n",
       "    <tr>\n",
       "      <th>126</th>\n",
       "      <td>nonStable_diag_CM</td>\n",
       "      <td>2048</td>\n",
       "      <td>5639600</td>\n",
       "    </tr>\n",
       "    <tr>\n",
       "      <th>127</th>\n",
       "      <td>nonStable_diag_OCL</td>\n",
       "      <td>2048</td>\n",
       "      <td>1499100</td>\n",
       "    </tr>\n",
       "  </tbody>\n",
       "</table>\n",
       "<p>128 rows × 3 columns</p>\n",
       "</div>"
      ],
      "text/plain": [
       "                   type   size     time\n",
       "0     nonStable_diag_CM     32  4142900\n",
       "1    nonStable_diag_OCL     32  3090500\n",
       "2     nonStable_diag_CM     64  5639000\n",
       "3    nonStable_diag_OCL     64   964600\n",
       "4     nonStable_diag_CM     96  3265000\n",
       "..                  ...    ...      ...\n",
       "123  nonStable_diag_OCL   1984  1332600\n",
       "124   nonStable_diag_CM   2016  3516800\n",
       "125  nonStable_diag_OCL   2016  1659500\n",
       "126   nonStable_diag_CM   2048  5639600\n",
       "127  nonStable_diag_OCL   2048  1499100\n",
       "\n",
       "[128 rows x 3 columns]"
      ]
     },
     "execution_count": 5,
     "metadata": {},
     "output_type": "execute_result"
    }
   ],
   "source": [
    "out"
   ]
  },
  {
   "cell_type": "code",
   "execution_count": 6,
   "metadata": {},
   "outputs": [],
   "source": [
    "\n",
    "\n",
    "nonStable_OCL_diag=out[\"type\"] == \"nonStable_diag_OCL\"\n",
    "nonStable_CM_diag  = out[\"type\"] == \"nonStable_diag_CM\"\n",
    "nonStable_CPU_diag  = out[\"type\"] == \"nonStable_CPU_diag\"\n",
    "#eigen = res[\"type\"] == \"Eigen\""
   ]
  },
  {
   "cell_type": "code",
   "execution_count": 7,
   "metadata": {},
   "outputs": [
    {
     "data": {
      "text/plain": [
       "Index(['type', ' size', ' time'], dtype='object')"
      ]
     },
     "execution_count": 7,
     "metadata": {},
     "output_type": "execute_result"
    }
   ],
   "source": [
    "out[nonStable_OCL_diag].columns"
   ]
  },
  {
   "cell_type": "code",
   "execution_count": 8,
   "metadata": {},
   "outputs": [
    {
     "data": {
      "text/plain": [
       "1        32\n",
       "3        64\n",
       "5        96\n",
       "7       128\n",
       "9       160\n",
       "       ... \n",
       "119    1920\n",
       "121    1952\n",
       "123    1984\n",
       "125    2016\n",
       "127    2048\n",
       "Name:  size, Length: 64, dtype: int64"
      ]
     },
     "execution_count": 8,
     "metadata": {},
     "output_type": "execute_result"
    }
   ],
   "source": [
    "out[nonStable_OCL_diag].iloc[:, 1]"
   ]
  },
  {
   "cell_type": "code",
   "execution_count": 9,
   "metadata": {},
   "outputs": [],
   "source": [
    "import matplotlib.pyplot as plt\n",
    "%matplotlib inline"
   ]
  },
  {
   "cell_type": "code",
   "execution_count": 10,
   "metadata": {},
   "outputs": [
    {
     "data": {
      "image/png": "[encoded data removed]",
      "text/plain": [
       "<Figure size 432x288 with 1 Axes>"
      ]
     },
     "metadata": {
      "needs_background": "light"
     },
     "output_type": "display_data"
    }
   ],
   "source": [
    "plt.plot(out[nonStable_OCL_diag].iloc[:, 1],out[nonStable_OCL_diag].iloc[:, 2],label='nonStable_OCL_diag')\n",
    "plt.plot(out[nonStable_CM_diag].iloc[:, 1], out[nonStable_CM_diag].iloc[:, 2],label='nonStable_CM_diag')\n",
    "#plt.plot(out[nonStable_CPU_diag][\"size\"], out[nonStable_CPU_diag][\"real_time\"],label='nonStable_CPU_diag')\n",
    "plt.legend()\n",
    "plt.show()"
   ]
  },
  {
   "cell_type": "code",
   "execution_count": null,
   "metadata": {},
   "outputs": [],
   "source": []
  },
  {
   "cell_type": "code",
   "execution_count": null,
   "metadata": {},
   "outputs": [],
   "source": []
  },
  {
   "cell_type": "code",
   "execution_count": null,
   "metadata": {},
   "outputs": [],
   "source": []
  }
 ],
 "metadata": {
  "kernelspec": {
   "display_name": "Python 3",
   "language": "python",
   "name": "python3"
  },
  "language_info": {
   "codemirror_mode": {
    "name": "ipython",
    "version": 3
   },
   "file_extension": ".py",
   "mimetype": "text/x-python",
   "name": "python",
   "nbconvert_exporter": "python",
   "pygments_lexer": "ipython3",
   "version": "3.7.6"
  }
 },
 "nbformat": 4,
 "nbformat_minor": 4
}
