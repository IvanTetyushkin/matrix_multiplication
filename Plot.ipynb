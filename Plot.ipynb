{
 "cells": [
  {
   "cell_type": "code",
   "execution_count": 1,
   "metadata": {},
   "outputs": [],
   "source": [
    "import pandas as pd\n"
   ]
  },
  {
   "cell_type": "code",
   "execution_count": 2,
   "metadata": {},
   "outputs": [
    {
     "name": "stdout",
     "output_type": "stream",
     "text": [
      "hello\n"
     ]
    }
   ],
   "source": [
    "print(\"hello\")"
   ]
  },
  {
   "cell_type": "code",
   "execution_count": 6,
   "metadata": {},
   "outputs": [],
   "source": [
    "out = pd.read_csv('result.csv')  \n",
    "out = out.drop([\"iterations\", \"time_unit\", \"bytes_per_second\", \"items_per_second\", \"label\",\"error_occurred\", \"error_message\", \"cpu_time\"], axis =1 )\n",
    "spill_res = out[\"name\"].str.split(\":\")\n",
    "names = [\"type\", \"size\"]\n",
    "data = spill_res.to_list()\n",
    "new_df = pd.DataFrame(data, columns=names)\n",
    "res = pd.concat([new_df, out], axis=1)\n",
    "res = res.drop(\"name\", axis = 1)\n",
    "res[\"size\"]  = pd.to_numeric(res[\"size\"])"
   ]
  },
  {
   "cell_type": "code",
   "execution_count": 7,
   "metadata": {},
   "outputs": [
    {
     "data": {
      "text/plain": [
       "type          object\n",
       "size           int64\n",
       "real_time    float64\n",
       "dtype: object"
      ]
     },
     "execution_count": 7,
     "metadata": {},
     "output_type": "execute_result"
    }
   ],
   "source": [
    "res.dtypes"
   ]
  },
  {
   "cell_type": "code",
   "execution_count": 8,
   "metadata": {},
   "outputs": [
    {
     "data": {
      "text/html": [
       "<div>\n",
       "<style scoped>\n",
       "    .dataframe tbody tr th:only-of-type {\n",
       "        vertical-align: middle;\n",
       "    }\n",
       "\n",
       "    .dataframe tbody tr th {\n",
       "        vertical-align: top;\n",
       "    }\n",
       "\n",
       "    .dataframe thead th {\n",
       "        text-align: right;\n",
       "    }\n",
       "</style>\n",
       "<table border=\"1\" class=\"dataframe\">\n",
       "  <thead>\n",
       "    <tr style=\"text-align: right;\">\n",
       "      <th></th>\n",
       "      <th>type</th>\n",
       "      <th>size</th>\n",
       "      <th>real_time</th>\n",
       "    </tr>\n",
       "  </thead>\n",
       "  <tbody>\n",
       "    <tr>\n",
       "      <th>0</th>\n",
       "      <td>HandMadeCPUMatrix</td>\n",
       "      <td>32</td>\n",
       "      <td>90982.5</td>\n",
       "    </tr>\n",
       "    <tr>\n",
       "      <th>1</th>\n",
       "      <td>HandMadeOpenCLMatrix</td>\n",
       "      <td>32</td>\n",
       "      <td>1165110.0</td>\n",
       "    </tr>\n",
       "    <tr>\n",
       "      <th>2</th>\n",
       "      <td>Eigen</td>\n",
       "      <td>32</td>\n",
       "      <td>566316.0</td>\n",
       "    </tr>\n",
       "    <tr>\n",
       "      <th>3</th>\n",
       "      <td>HandMadeCPUMatrix</td>\n",
       "      <td>64</td>\n",
       "      <td>321087.0</td>\n",
       "    </tr>\n",
       "    <tr>\n",
       "      <th>4</th>\n",
       "      <td>HandMadeOpenCLMatrix</td>\n",
       "      <td>64</td>\n",
       "      <td>1246300.0</td>\n",
       "    </tr>\n",
       "    <tr>\n",
       "      <th>...</th>\n",
       "      <td>...</td>\n",
       "      <td>...</td>\n",
       "      <td>...</td>\n",
       "    </tr>\n",
       "    <tr>\n",
       "      <th>145</th>\n",
       "      <td>HandMadeOpenCLMatrix</td>\n",
       "      <td>1568</td>\n",
       "      <td>35026800.0</td>\n",
       "    </tr>\n",
       "    <tr>\n",
       "      <th>146</th>\n",
       "      <td>Eigen</td>\n",
       "      <td>1568</td>\n",
       "      <td>39053800.0</td>\n",
       "    </tr>\n",
       "    <tr>\n",
       "      <th>147</th>\n",
       "      <td>HandMadeCPUMatrix</td>\n",
       "      <td>1600</td>\n",
       "      <td>208849000.0</td>\n",
       "    </tr>\n",
       "    <tr>\n",
       "      <th>148</th>\n",
       "      <td>HandMadeOpenCLMatrix</td>\n",
       "      <td>1600</td>\n",
       "      <td>38610100.0</td>\n",
       "    </tr>\n",
       "    <tr>\n",
       "      <th>149</th>\n",
       "      <td>Eigen</td>\n",
       "      <td>1600</td>\n",
       "      <td>39053700.0</td>\n",
       "    </tr>\n",
       "  </tbody>\n",
       "</table>\n",
       "<p>150 rows × 3 columns</p>\n",
       "</div>"
      ],
      "text/plain": [
       "                     type  size    real_time\n",
       "0       HandMadeCPUMatrix    32      90982.5\n",
       "1    HandMadeOpenCLMatrix    32    1165110.0\n",
       "2                   Eigen    32     566316.0\n",
       "3       HandMadeCPUMatrix    64     321087.0\n",
       "4    HandMadeOpenCLMatrix    64    1246300.0\n",
       "..                    ...   ...          ...\n",
       "145  HandMadeOpenCLMatrix  1568   35026800.0\n",
       "146                 Eigen  1568   39053800.0\n",
       "147     HandMadeCPUMatrix  1600  208849000.0\n",
       "148  HandMadeOpenCLMatrix  1600   38610100.0\n",
       "149                 Eigen  1600   39053700.0\n",
       "\n",
       "[150 rows x 3 columns]"
      ]
     },
     "execution_count": 8,
     "metadata": {},
     "output_type": "execute_result"
    }
   ],
   "source": [
    "res"
   ]
  },
  {
   "cell_type": "code",
   "execution_count": 9,
   "metadata": {},
   "outputs": [],
   "source": [
    "\n",
    "\n",
    "handmadeCPU=res[\"type\"] == \"HandMadeCPUMatrix\"\n",
    "handmadeOpenCL  = res[\"type\"] == \"HandMadeOpenCLMatrix\"\n",
    "eigen = res[\"type\"] == \"Eigen\""
   ]
  },
  {
   "cell_type": "code",
   "execution_count": 10,
   "metadata": {},
   "outputs": [],
   "source": [
    "import matplotlib.pyplot as plt\n",
    "%matplotlib inline"
   ]
  },
  {
   "cell_type": "code",
   "execution_count": 11,
   "metadata": {},
   "outputs": [
    {
     "data": {
      "image/png": "[encoded data removed]",
      "text/plain": [
       "<Figure size 432x288 with 1 Axes>"
      ]
     },
     "metadata": {
      "needs_background": "light"
     },
     "output_type": "display_data"
    }
   ],
   "source": [
    "plt.plot(res[handmadeCPU][\"size\"], res[handmadeCPU][\"real_time\"],label='CPUSIMPLE')\n",
    "plt.plot(res[handmadeOpenCL][\"size\"], res[handmadeOpenCL][\"real_time\"],label='OCLSIMPLE')\n",
    "plt.plot(res[eigen][\"size\"], res[eigen][\"real_time\"],label='Eigen')\n",
    "plt.legend()\n",
    "plt.show()"
   ]
  },
  {
   "cell_type": "code",
   "execution_count": 60,
   "metadata": {},
   "outputs": [],
   "source": [
    "mask = res[\"real_time\"] < 1e8\n",
    "res = res[mask]"
   ]
  },
  {
   "cell_type": "code",
   "execution_count": null,
   "metadata": {},
   "outputs": [],
   "source": []
  },
  {
   "cell_type": "code",
   "execution_count": null,
   "metadata": {},
   "outputs": [],
   "source": []
  }
 ],
 "metadata": {
  "kernelspec": {
   "display_name": "Python 3",
   "language": "python",
   "name": "python3"
  },
  "language_info": {
   "codemirror_mode": {
    "name": "ipython",
    "version": 3
   },
   "file_extension": ".py",
   "mimetype": "text/x-python",
   "name": "python",
   "nbconvert_exporter": "python",
   "pygments_lexer": "ipython3",
   "version": "3.7.7"
  }
 },
 "nbformat": 4,
 "nbformat_minor": 4
}
