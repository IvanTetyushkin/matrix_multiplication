{
 "cells": [
  {
   "cell_type": "code",
   "execution_count": 8,
   "metadata": {},
   "outputs": [],
   "source": [
    "import pandas as pd\n"
   ]
  },
  {
   "cell_type": "code",
   "execution_count": 9,
   "metadata": {},
   "outputs": [
    {
     "name": "stdout",
     "output_type": "stream",
     "text": [
      "hello\n"
     ]
    }
   ],
   "source": [
    "print(\"hello\")"
   ]
  },
  {
   "cell_type": "code",
   "execution_count": 10,
   "metadata": {},
   "outputs": [
    {
     "data": {
      "text/html": [
       "<div>\n",
       "<style scoped>\n",
       "    .dataframe tbody tr th:only-of-type {\n",
       "        vertical-align: middle;\n",
       "    }\n",
       "\n",
       "    .dataframe tbody tr th {\n",
       "        vertical-align: top;\n",
       "    }\n",
       "\n",
       "    .dataframe thead th {\n",
       "        text-align: right;\n",
       "    }\n",
       "</style>\n",
       "<table border=\"1\" class=\"dataframe\">\n",
       "  <thead>\n",
       "    <tr style=\"text-align: right;\">\n",
       "      <th></th>\n",
       "      <th>Test_name</th>\n",
       "      <th>size</th>\n",
       "      <th>time</th>\n",
       "    </tr>\n",
       "  </thead>\n",
       "  <tbody>\n",
       "    <tr>\n",
       "      <th>0</th>\n",
       "      <td>nonStable_diag_CM</td>\n",
       "      <td>32</td>\n",
       "      <td>1852300</td>\n",
       "    </tr>\n",
       "    <tr>\n",
       "      <th>1</th>\n",
       "      <td>nonStable_diag_OCL</td>\n",
       "      <td>32</td>\n",
       "      <td>2999800</td>\n",
       "    </tr>\n",
       "  </tbody>\n",
       "</table>\n",
       "</div>"
      ],
      "text/plain": [
       "            Test_name   size     time\n",
       "0   nonStable_diag_CM     32  1852300\n",
       "1  nonStable_diag_OCL     32  2999800"
      ]
     },
     "execution_count": 10,
     "metadata": {},
     "output_type": "execute_result"
    }
   ],
   "source": [
    "out = pd.read_csv('build/tests/Release/result.csv')  \n",
    "out.head()"
   ]
  },
  {
   "cell_type": "code",
   "execution_count": 4,
   "metadata": {},
   "outputs": [],
   "source": [
    "out = pd.read_csv('build/tests/Release/results.csv')  \n",
    "out = out.drop([\"iterations\", \"time_unit\", \"bytes_per_second\", \"items_per_second\", \"label\",\"error_occurred\", \"error_message\", \"cpu_time\"], axis =1 )\n",
    "spill_res = out[\"name\"].str.split(\"/\")\n",
    "names = [\"type\", \"size\"]\n",
    "data = spill_res.to_list()\n",
    "new_df = pd.DataFrame(data, columns=names)\n",
    "res = pd.concat([new_df, out], axis=1)\n",
    "res = res.drop(\"name\", axis = 1)\n",
    "res[\"size\"]  = pd.to_numeric(res[\"size\"])"
   ]
  },
  {
   "cell_type": "code",
   "execution_count": 5,
   "metadata": {},
   "outputs": [
    {
     "data": {
      "text/plain": [
       "type          object\n",
       "size           int64\n",
       "real_time    float64\n",
       "dtype: object"
      ]
     },
     "execution_count": 5,
     "metadata": {},
     "output_type": "execute_result"
    }
   ],
   "source": [
    "res.dtypes"
   ]
  },
  {
   "cell_type": "code",
   "execution_count": 6,
   "metadata": {},
   "outputs": [
    {
     "data": {
      "text/html": [
       "<div>\n",
       "<style scoped>\n",
       "    .dataframe tbody tr th:only-of-type {\n",
       "        vertical-align: middle;\n",
       "    }\n",
       "\n",
       "    .dataframe tbody tr th {\n",
       "        vertical-align: top;\n",
       "    }\n",
       "\n",
       "    .dataframe thead th {\n",
       "        text-align: right;\n",
       "    }\n",
       "</style>\n",
       "<table border=\"1\" class=\"dataframe\">\n",
       "  <thead>\n",
       "    <tr style=\"text-align: right;\">\n",
       "      <th></th>\n",
       "      <th>type</th>\n",
       "      <th>size</th>\n",
       "      <th>real_time</th>\n",
       "    </tr>\n",
       "  </thead>\n",
       "  <tbody>\n",
       "    <tr>\n",
       "      <th>0</th>\n",
       "      <td>nonStable_CM_diag</td>\n",
       "      <td>32</td>\n",
       "      <td>7974180.0</td>\n",
       "    </tr>\n",
       "    <tr>\n",
       "      <th>1</th>\n",
       "      <td>nonStable_CM_diag</td>\n",
       "      <td>64</td>\n",
       "      <td>7984680.0</td>\n",
       "    </tr>\n",
       "    <tr>\n",
       "      <th>2</th>\n",
       "      <td>nonStable_CM_diag</td>\n",
       "      <td>96</td>\n",
       "      <td>8040660.0</td>\n",
       "    </tr>\n",
       "    <tr>\n",
       "      <th>3</th>\n",
       "      <td>nonStable_CM_diag</td>\n",
       "      <td>128</td>\n",
       "      <td>8085460.0</td>\n",
       "    </tr>\n",
       "    <tr>\n",
       "      <th>4</th>\n",
       "      <td>nonStable_CM_diag</td>\n",
       "      <td>160</td>\n",
       "      <td>8055810.0</td>\n",
       "    </tr>\n",
       "    <tr>\n",
       "      <th>5</th>\n",
       "      <td>nonStable_CM_diag</td>\n",
       "      <td>192</td>\n",
       "      <td>8057900.0</td>\n",
       "    </tr>\n",
       "    <tr>\n",
       "      <th>6</th>\n",
       "      <td>nonStable_CM_diag</td>\n",
       "      <td>224</td>\n",
       "      <td>7915780.0</td>\n",
       "    </tr>\n",
       "    <tr>\n",
       "      <th>7</th>\n",
       "      <td>nonStable_CM_diag</td>\n",
       "      <td>256</td>\n",
       "      <td>7998810.0</td>\n",
       "    </tr>\n",
       "    <tr>\n",
       "      <th>8</th>\n",
       "      <td>nonStable_OCL_diag</td>\n",
       "      <td>32</td>\n",
       "      <td>1423090.0</td>\n",
       "    </tr>\n",
       "    <tr>\n",
       "      <th>9</th>\n",
       "      <td>nonStable_OCL_diag</td>\n",
       "      <td>64</td>\n",
       "      <td>1697980.0</td>\n",
       "    </tr>\n",
       "    <tr>\n",
       "      <th>10</th>\n",
       "      <td>nonStable_OCL_diag</td>\n",
       "      <td>96</td>\n",
       "      <td>2002660.0</td>\n",
       "    </tr>\n",
       "    <tr>\n",
       "      <th>11</th>\n",
       "      <td>nonStable_OCL_diag</td>\n",
       "      <td>128</td>\n",
       "      <td>2130830.0</td>\n",
       "    </tr>\n",
       "    <tr>\n",
       "      <th>12</th>\n",
       "      <td>nonStable_OCL_diag</td>\n",
       "      <td>160</td>\n",
       "      <td>2398760.0</td>\n",
       "    </tr>\n",
       "    <tr>\n",
       "      <th>13</th>\n",
       "      <td>nonStable_OCL_diag</td>\n",
       "      <td>192</td>\n",
       "      <td>3241400.0</td>\n",
       "    </tr>\n",
       "    <tr>\n",
       "      <th>14</th>\n",
       "      <td>nonStable_OCL_diag</td>\n",
       "      <td>224</td>\n",
       "      <td>3738020.0</td>\n",
       "    </tr>\n",
       "    <tr>\n",
       "      <th>15</th>\n",
       "      <td>nonStable_OCL_diag</td>\n",
       "      <td>256</td>\n",
       "      <td>3620310.0</td>\n",
       "    </tr>\n",
       "    <tr>\n",
       "      <th>16</th>\n",
       "      <td>nonStable_CPU_diag</td>\n",
       "      <td>32</td>\n",
       "      <td>38214.8</td>\n",
       "    </tr>\n",
       "    <tr>\n",
       "      <th>17</th>\n",
       "      <td>nonStable_CPU_diag</td>\n",
       "      <td>64</td>\n",
       "      <td>83772.9</td>\n",
       "    </tr>\n",
       "    <tr>\n",
       "      <th>18</th>\n",
       "      <td>nonStable_CPU_diag</td>\n",
       "      <td>96</td>\n",
       "      <td>116945.0</td>\n",
       "    </tr>\n",
       "    <tr>\n",
       "      <th>19</th>\n",
       "      <td>nonStable_CPU_diag</td>\n",
       "      <td>128</td>\n",
       "      <td>162580.0</td>\n",
       "    </tr>\n",
       "    <tr>\n",
       "      <th>20</th>\n",
       "      <td>nonStable_CPU_diag</td>\n",
       "      <td>160</td>\n",
       "      <td>194483.0</td>\n",
       "    </tr>\n",
       "    <tr>\n",
       "      <th>21</th>\n",
       "      <td>nonStable_CPU_diag</td>\n",
       "      <td>192</td>\n",
       "      <td>230930.0</td>\n",
       "    </tr>\n",
       "    <tr>\n",
       "      <th>22</th>\n",
       "      <td>nonStable_CPU_diag</td>\n",
       "      <td>224</td>\n",
       "      <td>258651.0</td>\n",
       "    </tr>\n",
       "    <tr>\n",
       "      <th>23</th>\n",
       "      <td>nonStable_CPU_diag</td>\n",
       "      <td>256</td>\n",
       "      <td>299524.0</td>\n",
       "    </tr>\n",
       "  </tbody>\n",
       "</table>\n",
       "</div>"
      ],
      "text/plain": [
       "                  type  size  real_time\n",
       "0    nonStable_CM_diag    32  7974180.0\n",
       "1    nonStable_CM_diag    64  7984680.0\n",
       "2    nonStable_CM_diag    96  8040660.0\n",
       "3    nonStable_CM_diag   128  8085460.0\n",
       "4    nonStable_CM_diag   160  8055810.0\n",
       "5    nonStable_CM_diag   192  8057900.0\n",
       "6    nonStable_CM_diag   224  7915780.0\n",
       "7    nonStable_CM_diag   256  7998810.0\n",
       "8   nonStable_OCL_diag    32  1423090.0\n",
       "9   nonStable_OCL_diag    64  1697980.0\n",
       "10  nonStable_OCL_diag    96  2002660.0\n",
       "11  nonStable_OCL_diag   128  2130830.0\n",
       "12  nonStable_OCL_diag   160  2398760.0\n",
       "13  nonStable_OCL_diag   192  3241400.0\n",
       "14  nonStable_OCL_diag   224  3738020.0\n",
       "15  nonStable_OCL_diag   256  3620310.0\n",
       "16  nonStable_CPU_diag    32    38214.8\n",
       "17  nonStable_CPU_diag    64    83772.9\n",
       "18  nonStable_CPU_diag    96   116945.0\n",
       "19  nonStable_CPU_diag   128   162580.0\n",
       "20  nonStable_CPU_diag   160   194483.0\n",
       "21  nonStable_CPU_diag   192   230930.0\n",
       "22  nonStable_CPU_diag   224   258651.0\n",
       "23  nonStable_CPU_diag   256   299524.0"
      ]
     },
     "execution_count": 6,
     "metadata": {},
     "output_type": "execute_result"
    }
   ],
   "source": [
    "res"
   ]
  },
  {
   "cell_type": "code",
   "execution_count": 7,
   "metadata": {},
   "outputs": [],
   "source": [
    "\n",
    "\n",
    "nonStable_OCL_diag=res[\"type\"] == \"nonStable_OCL_diag\"\n",
    "nonStable_CM_diag  = res[\"type\"] == \"nonStable_CM_diag\"\n",
    "nonStable_CPU_diag  = res[\"type\"] == \"nonStable_CPU_diag\"\n",
    "#eigen = res[\"type\"] == \"Eigen\""
   ]
  },
  {
   "cell_type": "code",
   "execution_count": 8,
   "metadata": {},
   "outputs": [],
   "source": [
    "import matplotlib.pyplot as plt\n",
    "%matplotlib inline"
   ]
  },
  {
   "cell_type": "code",
   "execution_count": 9,
   "metadata": {},
   "outputs": [
    {
     "data": {
      "image/png": "[encoded data removed]",
      "text/plain": [
       "<Figure size 432x288 with 1 Axes>"
      ]
     },
     "metadata": {
      "needs_background": "light"
     },
     "output_type": "display_data"
    }
   ],
   "source": [
    "plt.plot(res[nonStable_OCL_diag][\"size\"], res[nonStable_OCL_diag][\"real_time\"],label='nonStable_OCL_diag')\n",
    "plt.plot(res[nonStable_CM_diag][\"size\"], res[nonStable_CM_diag][\"real_time\"],label='nonStable_CM_diag')\n",
    "plt.plot(res[nonStable_CPU_diag][\"size\"], res[nonStable_CPU_diag][\"real_time\"],label='nonStable_CPU_diag')\n",
    "plt.legend()\n",
    "plt.show()"
   ]
  },
  {
   "cell_type": "code",
   "execution_count": 10,
   "metadata": {},
   "outputs": [],
   "source": [
    "mask = res[\"real_time\"] < 1e8\n",
    "res = res[mask]"
   ]
  },
  {
   "cell_type": "code",
   "execution_count": 11,
   "metadata": {},
   "outputs": [
    {
     "data": {
      "image/png": "[encoded data removed]",
      "text/plain": [
       "<Figure size 432x288 with 1 Axes>"
      ]
     },
     "metadata": {
      "needs_background": "light"
     },
     "output_type": "display_data"
    }
   ],
   "source": [
    "plt.plot(res[nonStable_CPU_diag][\"size\"], res[nonStable_CPU_diag][\"real_time\"],label='nonStable_CPU_diag')\n",
    "plt.legend()\n",
    "plt.show()"
   ]
  },
  {
   "cell_type": "code",
   "execution_count": null,
   "metadata": {},
   "outputs": [],
   "source": []
  }
 ],
 "metadata": {
  "kernelspec": {
   "display_name": "Python 3",
   "language": "python",
   "name": "python3"
  },
  "language_info": {
   "codemirror_mode": {
    "name": "ipython",
    "version": 3
   },
   "file_extension": ".py",
   "mimetype": "text/x-python",
   "name": "python",
   "nbconvert_exporter": "python",
   "pygments_lexer": "ipython3",
   "version": "3.7.6"
  }
 },
 "nbformat": 4,
 "nbformat_minor": 4
}
